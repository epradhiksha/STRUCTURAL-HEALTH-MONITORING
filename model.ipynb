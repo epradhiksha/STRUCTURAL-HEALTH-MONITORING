{
 "cells": [
  {
   "cell_type": "code",
   "execution_count": 2,
   "id": "fc096d02",
   "metadata": {},
   "outputs": [],
   "source": [
    "import pandas as pd\n",
    "import numpy as np\n",
    "from sklearn.preprocessing import StandardScaler\n",
    "from sklearn.cluster import KMeans\n",
    "from tensorflow.keras.models import Model\n",
    "from tensorflow.keras.layers import Input, Dense\n",
    "from tensorflow.keras.optimizers import Adam\n",
    "import joblib"
   ]
  },
  {
   "cell_type": "code",
   "execution_count": 3,
   "id": "3dfc0359",
   "metadata": {},
   "outputs": [],
   "source": [
    "df1=pd.read_csv('C:\\\\Users\\\\lenovo\\\\Desktop\\\\STRUCTURAL-HEALTH-MONITORING\\\\Data-SHM-Br 1-704 (data1).csv')\n",
    "df2=pd.read_csv('C:\\\\Users\\\\lenovo\\\\Desktop\\\\STRUCTURAL-HEALTH-MONITORING\\\\Data-SHM-Br 1-704 (data2).csv')\n",
    "df3=pd.read_csv('C:\\\\Users\\\\lenovo\\\\Desktop\\\\STRUCTURAL-HEALTH-MONITORING\\\\Data-SHM-Br 1-704 (data3).csv') \n",
    "df4=pd.read_csv('C:\\\\Users\\\\lenovo\\\\Desktop\\\\STRUCTURAL-HEALTH-MONITORING\\\\Data-SHM-Br 1-704 (data4).csv')\n",
    "df5=pd.read_csv('C:\\\\Users\\\\lenovo\\\\Desktop\\\\STRUCTURAL-HEALTH-MONITORING\\\\Data-SHM-Br 1-704 (data5).csv')\n",
    "df6=pd.read_csv('C:\\\\Users\\\\lenovo\\\\Desktop\\\\STRUCTURAL-HEALTH-MONITORING\\\\Data-SHM-Br 1-704 (data6).csv')\n",
    "df7=pd.read_csv('C:\\\\Users\\\\lenovo\\\\Desktop\\\\STRUCTURAL-HEALTH-MONITORING\\\\Data-SHM-Br 1-704 (data7).csv')\n"
   ]
  },
  {
   "cell_type": "code",
   "execution_count": 4,
   "id": "aee80b6d",
   "metadata": {},
   "outputs": [
    {
     "data": {
      "text/html": [
       "<div>\n",
       "<style scoped>\n",
       "    .dataframe tbody tr th:only-of-type {\n",
       "        vertical-align: middle;\n",
       "    }\n",
       "\n",
       "    .dataframe tbody tr th {\n",
       "        vertical-align: top;\n",
       "    }\n",
       "\n",
       "    .dataframe thead th {\n",
       "        text-align: right;\n",
       "    }\n",
       "</style>\n",
       "<table border=\"1\" class=\"dataframe\">\n",
       "  <thead>\n",
       "    <tr style=\"text-align: right;\">\n",
       "      <th></th>\n",
       "      <th>TIMESTAMP</th>\n",
       "      <th>RECORD</th>\n",
       "      <th>VOLTAGE</th>\n",
       "      <th>ST1</th>\n",
       "      <th>ST2</th>\n",
       "      <th>ST3</th>\n",
       "    </tr>\n",
       "  </thead>\n",
       "  <tbody>\n",
       "    <tr>\n",
       "      <th>0</th>\n",
       "      <td>2022-01-11 14:15:14.22</td>\n",
       "      <td>0</td>\n",
       "      <td>12.60</td>\n",
       "      <td>2172.691</td>\n",
       "      <td>791.9388</td>\n",
       "      <td>-3759.116</td>\n",
       "    </tr>\n",
       "    <tr>\n",
       "      <th>1</th>\n",
       "      <td>2022-01-11 14:15:14.23</td>\n",
       "      <td>1</td>\n",
       "      <td>12.60</td>\n",
       "      <td>2173.406</td>\n",
       "      <td>792.1773</td>\n",
       "      <td>-3758.128</td>\n",
       "    </tr>\n",
       "    <tr>\n",
       "      <th>2</th>\n",
       "      <td>2022-01-11 14:15:14.24</td>\n",
       "      <td>2</td>\n",
       "      <td>12.61</td>\n",
       "      <td>2172.588</td>\n",
       "      <td>792.5861</td>\n",
       "      <td>-3759.388</td>\n",
       "    </tr>\n",
       "    <tr>\n",
       "      <th>3</th>\n",
       "      <td>2022-01-11 14:15:14.25</td>\n",
       "      <td>3</td>\n",
       "      <td>12.60</td>\n",
       "      <td>2173.474</td>\n",
       "      <td>792.5861</td>\n",
       "      <td>-3758.366</td>\n",
       "    </tr>\n",
       "    <tr>\n",
       "      <th>4</th>\n",
       "      <td>2022-01-11 14:15:14.26</td>\n",
       "      <td>4</td>\n",
       "      <td>12.60</td>\n",
       "      <td>2173.099</td>\n",
       "      <td>794.7662</td>\n",
       "      <td>-3757.242</td>\n",
       "    </tr>\n",
       "    <tr>\n",
       "      <th>5</th>\n",
       "      <td>2022-01-11 14:15:14.27</td>\n",
       "      <td>5</td>\n",
       "      <td>12.60</td>\n",
       "      <td>2174.939</td>\n",
       "      <td>794.4937</td>\n",
       "      <td>-3755.573</td>\n",
       "    </tr>\n",
       "    <tr>\n",
       "      <th>6</th>\n",
       "      <td>2022-01-11 14:15:14.28</td>\n",
       "      <td>6</td>\n",
       "      <td>12.60</td>\n",
       "      <td>2174.632</td>\n",
       "      <td>796.2310</td>\n",
       "      <td>-3754.313</td>\n",
       "    </tr>\n",
       "    <tr>\n",
       "      <th>7</th>\n",
       "      <td>2022-01-11 14:15:14.29</td>\n",
       "      <td>7</td>\n",
       "      <td>12.59</td>\n",
       "      <td>2176.472</td>\n",
       "      <td>795.3112</td>\n",
       "      <td>-3754.006</td>\n",
       "    </tr>\n",
       "    <tr>\n",
       "      <th>8</th>\n",
       "      <td>2022-01-11 14:15:14.3</td>\n",
       "      <td>8</td>\n",
       "      <td>12.61</td>\n",
       "      <td>2175.961</td>\n",
       "      <td>797.6277</td>\n",
       "      <td>-3752.644</td>\n",
       "    </tr>\n",
       "    <tr>\n",
       "      <th>9</th>\n",
       "      <td>2022-01-11 14:15:14.31</td>\n",
       "      <td>9</td>\n",
       "      <td>12.60</td>\n",
       "      <td>2178.005</td>\n",
       "      <td>798.7518</td>\n",
       "      <td>-3750.974</td>\n",
       "    </tr>\n",
       "  </tbody>\n",
       "</table>\n",
       "</div>"
      ],
      "text/plain": [
       "                TIMESTAMP  RECORD  VOLTAGE       ST1       ST2       ST3\n",
       "0  2022-01-11 14:15:14.22       0    12.60  2172.691  791.9388 -3759.116\n",
       "1  2022-01-11 14:15:14.23       1    12.60  2173.406  792.1773 -3758.128\n",
       "2  2022-01-11 14:15:14.24       2    12.61  2172.588  792.5861 -3759.388\n",
       "3  2022-01-11 14:15:14.25       3    12.60  2173.474  792.5861 -3758.366\n",
       "4  2022-01-11 14:15:14.26       4    12.60  2173.099  794.7662 -3757.242\n",
       "5  2022-01-11 14:15:14.27       5    12.60  2174.939  794.4937 -3755.573\n",
       "6  2022-01-11 14:15:14.28       6    12.60  2174.632  796.2310 -3754.313\n",
       "7  2022-01-11 14:15:14.29       7    12.59  2176.472  795.3112 -3754.006\n",
       "8   2022-01-11 14:15:14.3       8    12.61  2175.961  797.6277 -3752.644\n",
       "9  2022-01-11 14:15:14.31       9    12.60  2178.005  798.7518 -3750.974"
      ]
     },
     "execution_count": 4,
     "metadata": {},
     "output_type": "execute_result"
    }
   ],
   "source": [
    "df1.head(10)"
   ]
  },
  {
   "cell_type": "code",
   "execution_count": 5,
   "id": "6d4285ca",
   "metadata": {},
   "outputs": [],
   "source": [
    "df = pd.concat([df1, df2, df3, df4, df5, df6, df7], ignore_index=True)"
   ]
  },
  {
   "cell_type": "code",
   "execution_count": 6,
   "id": "30a178b9",
   "metadata": {},
   "outputs": [],
   "source": [
    "df['TIMESTAMP'] = pd.to_datetime(df['TIMESTAMP'], errors='coerce')  # convert to datetime\n",
    "df['hour'] = df['TIMESTAMP'].dt.hour"
   ]
  },
  {
   "cell_type": "code",
   "execution_count": 7,
   "id": "e2371c89",
   "metadata": {},
   "outputs": [
    {
     "data": {
      "text/html": [
       "<div>\n",
       "<style scoped>\n",
       "    .dataframe tbody tr th:only-of-type {\n",
       "        vertical-align: middle;\n",
       "    }\n",
       "\n",
       "    .dataframe tbody tr th {\n",
       "        vertical-align: top;\n",
       "    }\n",
       "\n",
       "    .dataframe thead th {\n",
       "        text-align: right;\n",
       "    }\n",
       "</style>\n",
       "<table border=\"1\" class=\"dataframe\">\n",
       "  <thead>\n",
       "    <tr style=\"text-align: right;\">\n",
       "      <th></th>\n",
       "      <th>TIMESTAMP</th>\n",
       "      <th>RECORD</th>\n",
       "      <th>VOLTAGE</th>\n",
       "      <th>ST1</th>\n",
       "      <th>ST2</th>\n",
       "      <th>ST3</th>\n",
       "      <th>hour</th>\n",
       "    </tr>\n",
       "  </thead>\n",
       "  <tbody>\n",
       "    <tr>\n",
       "      <th>0</th>\n",
       "      <td>2022-01-11 14:15:14.220</td>\n",
       "      <td>0</td>\n",
       "      <td>12.60</td>\n",
       "      <td>2172.691</td>\n",
       "      <td>791.9388</td>\n",
       "      <td>-3759.116</td>\n",
       "      <td>14.0</td>\n",
       "    </tr>\n",
       "    <tr>\n",
       "      <th>1</th>\n",
       "      <td>2022-01-11 14:15:14.230</td>\n",
       "      <td>1</td>\n",
       "      <td>12.60</td>\n",
       "      <td>2173.406</td>\n",
       "      <td>792.1773</td>\n",
       "      <td>-3758.128</td>\n",
       "      <td>14.0</td>\n",
       "    </tr>\n",
       "    <tr>\n",
       "      <th>2</th>\n",
       "      <td>2022-01-11 14:15:14.240</td>\n",
       "      <td>2</td>\n",
       "      <td>12.61</td>\n",
       "      <td>2172.588</td>\n",
       "      <td>792.5861</td>\n",
       "      <td>-3759.388</td>\n",
       "      <td>14.0</td>\n",
       "    </tr>\n",
       "    <tr>\n",
       "      <th>3</th>\n",
       "      <td>2022-01-11 14:15:14.250</td>\n",
       "      <td>3</td>\n",
       "      <td>12.60</td>\n",
       "      <td>2173.474</td>\n",
       "      <td>792.5861</td>\n",
       "      <td>-3758.366</td>\n",
       "      <td>14.0</td>\n",
       "    </tr>\n",
       "    <tr>\n",
       "      <th>4</th>\n",
       "      <td>2022-01-11 14:15:14.260</td>\n",
       "      <td>4</td>\n",
       "      <td>12.60</td>\n",
       "      <td>2173.099</td>\n",
       "      <td>794.7662</td>\n",
       "      <td>-3757.242</td>\n",
       "      <td>14.0</td>\n",
       "    </tr>\n",
       "  </tbody>\n",
       "</table>\n",
       "</div>"
      ],
      "text/plain": [
       "                TIMESTAMP  RECORD  VOLTAGE       ST1       ST2       ST3  hour\n",
       "0 2022-01-11 14:15:14.220       0    12.60  2172.691  791.9388 -3759.116  14.0\n",
       "1 2022-01-11 14:15:14.230       1    12.60  2173.406  792.1773 -3758.128  14.0\n",
       "2 2022-01-11 14:15:14.240       2    12.61  2172.588  792.5861 -3759.388  14.0\n",
       "3 2022-01-11 14:15:14.250       3    12.60  2173.474  792.5861 -3758.366  14.0\n",
       "4 2022-01-11 14:15:14.260       4    12.60  2173.099  794.7662 -3757.242  14.0"
      ]
     },
     "execution_count": 7,
     "metadata": {},
     "output_type": "execute_result"
    }
   ],
   "source": [
    "df.head(5)"
   ]
  },
  {
   "cell_type": "code",
   "execution_count": 8,
   "id": "b87c104e",
   "metadata": {},
   "outputs": [
    {
     "name": "stdout",
     "output_type": "stream",
     "text": [
      "Max VOLTAGE: 12.76 at 2022-01-23 17:22:30.970000\n",
      "Max ST1: 2294.424 at 2022-01-22 07:39:23.010000\n",
      "Max ST2: 1070.338 at 2022-01-22 07:39:23.020000\n",
      "Max ST3: -3196.344 at NaT\n"
     ]
    }
   ],
   "source": [
    "for col in ['VOLTAGE', 'ST1', 'ST2', 'ST3']:\n",
    "    max_row = df.loc[df[col].idxmax()]\n",
    "    print(f\"Max {col}: {max_row[col]} at {max_row['TIMESTAMP']}\")\n"
   ]
  },
  {
   "cell_type": "code",
   "execution_count": 9,
   "id": "e3e96a2f",
   "metadata": {},
   "outputs": [],
   "source": [
    "# Keep only records between 7 AM and 12 PM\n",
    "df_filtered = df[(df['hour'] >= 7) & (df['hour'] <= 24)]\n"
   ]
  },
  {
   "cell_type": "code",
   "execution_count": 10,
   "id": "04007bba",
   "metadata": {},
   "outputs": [
    {
     "name": "stdout",
     "output_type": "stream",
     "text": [
      "(114459467, 7)\n",
      "(78387673, 7)\n"
     ]
    }
   ],
   "source": [
    "print(df.shape)\n",
    "print(df_filtered.shape)"
   ]
  },
  {
   "cell_type": "code",
   "execution_count": 11,
   "id": "f6b29da4",
   "metadata": {},
   "outputs": [],
   "source": [
    "X=df_filtered[['VOLTAGE','ST1','ST2','ST3']]"
   ]
  },
  {
   "cell_type": "code",
   "execution_count": 12,
   "id": "ae6ce24f",
   "metadata": {},
   "outputs": [
    {
     "data": {
      "text/html": [
       "<div>\n",
       "<style scoped>\n",
       "    .dataframe tbody tr th:only-of-type {\n",
       "        vertical-align: middle;\n",
       "    }\n",
       "\n",
       "    .dataframe tbody tr th {\n",
       "        vertical-align: top;\n",
       "    }\n",
       "\n",
       "    .dataframe thead th {\n",
       "        text-align: right;\n",
       "    }\n",
       "</style>\n",
       "<table border=\"1\" class=\"dataframe\">\n",
       "  <thead>\n",
       "    <tr style=\"text-align: right;\">\n",
       "      <th></th>\n",
       "      <th>VOLTAGE</th>\n",
       "      <th>ST1</th>\n",
       "      <th>ST2</th>\n",
       "      <th>ST3</th>\n",
       "    </tr>\n",
       "  </thead>\n",
       "  <tbody>\n",
       "    <tr>\n",
       "      <th>0</th>\n",
       "      <td>12.60</td>\n",
       "      <td>2172.691</td>\n",
       "      <td>791.9388</td>\n",
       "      <td>-3759.116</td>\n",
       "    </tr>\n",
       "    <tr>\n",
       "      <th>1</th>\n",
       "      <td>12.60</td>\n",
       "      <td>2173.406</td>\n",
       "      <td>792.1773</td>\n",
       "      <td>-3758.128</td>\n",
       "    </tr>\n",
       "    <tr>\n",
       "      <th>2</th>\n",
       "      <td>12.61</td>\n",
       "      <td>2172.588</td>\n",
       "      <td>792.5861</td>\n",
       "      <td>-3759.388</td>\n",
       "    </tr>\n",
       "    <tr>\n",
       "      <th>3</th>\n",
       "      <td>12.60</td>\n",
       "      <td>2173.474</td>\n",
       "      <td>792.5861</td>\n",
       "      <td>-3758.366</td>\n",
       "    </tr>\n",
       "    <tr>\n",
       "      <th>4</th>\n",
       "      <td>12.60</td>\n",
       "      <td>2173.099</td>\n",
       "      <td>794.7662</td>\n",
       "      <td>-3757.242</td>\n",
       "    </tr>\n",
       "  </tbody>\n",
       "</table>\n",
       "</div>"
      ],
      "text/plain": [
       "   VOLTAGE       ST1       ST2       ST3\n",
       "0    12.60  2172.691  791.9388 -3759.116\n",
       "1    12.60  2173.406  792.1773 -3758.128\n",
       "2    12.61  2172.588  792.5861 -3759.388\n",
       "3    12.60  2173.474  792.5861 -3758.366\n",
       "4    12.60  2173.099  794.7662 -3757.242"
      ]
     },
     "execution_count": 12,
     "metadata": {},
     "output_type": "execute_result"
    }
   ],
   "source": [
    "X.head(5)"
   ]
  },
  {
   "cell_type": "code",
   "execution_count": 13,
   "id": "28ee0b31",
   "metadata": {},
   "outputs": [],
   "source": [
    "X_scaled = StandardScaler().fit_transform(X)"
   ]
  },
  {
   "cell_type": "code",
   "execution_count": 14,
   "id": "6b28904c",
   "metadata": {},
   "outputs": [
    {
     "name": "stdout",
     "output_type": "stream",
     "text": [
      "Epoch 1/20\n",
      "\u001b[1m7839/7839\u001b[0m \u001b[32m━━━━━━━━━━━━━━━━━━━━\u001b[0m\u001b[37m\u001b[0m \u001b[1m19s\u001b[0m 2ms/step - loss: 0.1880\n",
      "Epoch 2/20\n",
      "\u001b[1m7839/7839\u001b[0m \u001b[32m━━━━━━━━━━━━━━━━━━━━\u001b[0m\u001b[37m\u001b[0m \u001b[1m18s\u001b[0m 2ms/step - loss: 0.0414\n",
      "Epoch 3/20\n",
      "\u001b[1m7839/7839\u001b[0m \u001b[32m━━━━━━━━━━━━━━━━━━━━\u001b[0m\u001b[37m\u001b[0m \u001b[1m18s\u001b[0m 2ms/step - loss: 0.0410\n",
      "Epoch 4/20\n",
      "\u001b[1m7839/7839\u001b[0m \u001b[32m━━━━━━━━━━━━━━━━━━━━\u001b[0m\u001b[37m\u001b[0m \u001b[1m18s\u001b[0m 2ms/step - loss: 0.0407\n",
      "Epoch 5/20\n",
      "\u001b[1m7839/7839\u001b[0m \u001b[32m━━━━━━━━━━━━━━━━━━━━\u001b[0m\u001b[37m\u001b[0m \u001b[1m17s\u001b[0m 1ms/step - loss: 0.0400\n",
      "Epoch 6/20\n",
      "\u001b[1m7839/7839\u001b[0m \u001b[32m━━━━━━━━━━━━━━━━━━━━\u001b[0m\u001b[37m\u001b[0m \u001b[1m15s\u001b[0m 1ms/step - loss: 0.0394\n",
      "Epoch 7/20\n",
      "\u001b[1m7839/7839\u001b[0m \u001b[32m━━━━━━━━━━━━━━━━━━━━\u001b[0m\u001b[37m\u001b[0m \u001b[1m17s\u001b[0m 2ms/step - loss: 0.0390\n",
      "Epoch 8/20\n",
      "\u001b[1m7839/7839\u001b[0m \u001b[32m━━━━━━━━━━━━━━━━━━━━\u001b[0m\u001b[37m\u001b[0m \u001b[1m20s\u001b[0m 1ms/step - loss: 0.0386\n",
      "Epoch 9/20\n",
      "\u001b[1m7839/7839\u001b[0m \u001b[32m━━━━━━━━━━━━━━━━━━━━\u001b[0m\u001b[37m\u001b[0m \u001b[1m795s\u001b[0m 2ms/step - loss: 0.0370\n",
      "Epoch 10/20\n",
      "\u001b[1m7839/7839\u001b[0m \u001b[32m━━━━━━━━━━━━━━━━━━━━\u001b[0m\u001b[37m\u001b[0m \u001b[1m18s\u001b[0m 2ms/step - loss: 0.0362\n",
      "Epoch 11/20\n",
      "\u001b[1m7839/7839\u001b[0m \u001b[32m━━━━━━━━━━━━━━━━━━━━\u001b[0m\u001b[37m\u001b[0m \u001b[1m18s\u001b[0m 2ms/step - loss: 0.0358\n",
      "Epoch 12/20\n",
      "\u001b[1m7839/7839\u001b[0m \u001b[32m━━━━━━━━━━━━━━━━━━━━\u001b[0m\u001b[37m\u001b[0m \u001b[1m18s\u001b[0m 2ms/step - loss: 0.0354\n",
      "Epoch 13/20\n",
      "\u001b[1m7839/7839\u001b[0m \u001b[32m━━━━━━━━━━━━━━━━━━━━\u001b[0m\u001b[37m\u001b[0m \u001b[1m17s\u001b[0m 1ms/step - loss: 0.0344\n",
      "Epoch 14/20\n",
      "\u001b[1m7839/7839\u001b[0m \u001b[32m━━━━━━━━━━━━━━━━━━━━\u001b[0m\u001b[37m\u001b[0m \u001b[1m18s\u001b[0m 2ms/step - loss: 0.0341\n",
      "Epoch 15/20\n",
      "\u001b[1m7839/7839\u001b[0m \u001b[32m━━━━━━━━━━━━━━━━━━━━\u001b[0m\u001b[37m\u001b[0m \u001b[1m18s\u001b[0m 2ms/step - loss: 0.0340\n",
      "Epoch 16/20\n",
      "\u001b[1m7839/7839\u001b[0m \u001b[32m━━━━━━━━━━━━━━━━━━━━\u001b[0m\u001b[37m\u001b[0m \u001b[1m18s\u001b[0m 2ms/step - loss: 0.0339\n",
      "Epoch 17/20\n",
      "\u001b[1m7839/7839\u001b[0m \u001b[32m━━━━━━━━━━━━━━━━━━━━\u001b[0m\u001b[37m\u001b[0m \u001b[1m18s\u001b[0m 2ms/step - loss: 0.0339\n",
      "Epoch 18/20\n",
      "\u001b[1m7839/7839\u001b[0m \u001b[32m━━━━━━━━━━━━━━━━━━━━\u001b[0m\u001b[37m\u001b[0m \u001b[1m18s\u001b[0m 2ms/step - loss: 0.0338\n",
      "Epoch 19/20\n",
      "\u001b[1m7839/7839\u001b[0m \u001b[32m━━━━━━━━━━━━━━━━━━━━\u001b[0m\u001b[37m\u001b[0m \u001b[1m17s\u001b[0m 2ms/step - loss: 0.0338\n",
      "Epoch 20/20\n",
      "\u001b[1m7839/7839\u001b[0m \u001b[32m━━━━━━━━━━━━━━━━━━━━\u001b[0m\u001b[37m\u001b[0m \u001b[1m17s\u001b[0m 2ms/step - loss: 0.0338\n"
     ]
    },
    {
     "data": {
      "text/plain": [
       "<keras.src.callbacks.history.History at 0x1aa568becf0>"
      ]
     },
     "execution_count": 14,
     "metadata": {},
     "output_type": "execute_result"
    }
   ],
   "source": [
    "# Build Autoencoder\n",
    "input_dim = X_scaled.shape[1]\n",
    "encoding_dim = 2  \n",
    "\n",
    "input_layer = Input(shape=(input_dim,))\n",
    "encoded = Dense(8, activation='relu')(input_layer)\n",
    "encoded = Dense(encoding_dim, activation='relu')(encoded)\n",
    "\n",
    "decoded = Dense(8, activation='relu')(encoded)\n",
    "decoded = Dense(input_dim, activation='linear')(decoded)\n",
    "\n",
    "autoencoder = Model(inputs=input_layer, outputs=decoded)\n",
    "encoder = Model(inputs=input_layer, outputs=encoded)\n",
    "\n",
    "autoencoder.compile(optimizer=Adam(0.001), loss='mse', )\n",
    "autoencoder.fit(X_scaled, X_scaled, epochs=20, batch_size=10000, shuffle=True)"
   ]
  },
  {
   "cell_type": "code",
   "execution_count": 15,
   "id": "8f3b8a41",
   "metadata": {},
   "outputs": [
    {
     "data": {
      "text/plain": [
       "(78387673, 4)"
      ]
     },
     "execution_count": 15,
     "metadata": {},
     "output_type": "execute_result"
    }
   ],
   "source": [
    "X_scaled.shape"
   ]
  },
  {
   "cell_type": "markdown",
   "id": "7264c3f4",
   "metadata": {},
   "source": [
    "# Step 1: Get row indices\n",
    "\n",
    "# Step 2: Use them to slice actual data"
   ]
  },
  {
   "cell_type": "code",
   "execution_count": 16,
   "id": "5c89d892",
   "metadata": {},
   "outputs": [
    {
     "name": "stdout",
     "output_type": "stream",
     "text": [
      "\u001b[1m15625/15625\u001b[0m \u001b[32m━━━━━━━━━━━━━━━━━━━━\u001b[0m\u001b[37m\u001b[0m \u001b[1m8s\u001b[0m 510us/step\n"
     ]
    }
   ],
   "source": [
    "# Encode data\n",
    "X_=np.random.choice(X_scaled.shape[0],size=500000,replace=False) \n",
    "X_sample = X_scaled[X_]\n",
    "X_encoded = encoder.predict(X_sample)"
   ]
  },
  {
   "cell_type": "code",
   "execution_count": 17,
   "id": "620f1ed2",
   "metadata": {},
   "outputs": [],
   "source": [
    "#clustering the data\n",
    "model=KMeans(n_clusters=3, random_state=42)"
   ]
  },
  {
   "cell_type": "code",
   "execution_count": null,
   "id": "68f3e887",
   "metadata": {},
   "outputs": [
    {
     "name": "stderr",
     "output_type": "stream",
     "text": [
      "C:\\Users\\lenovo\\AppData\\Local\\Temp\\ipykernel_18516\\3753673513.py:5: SettingWithCopyWarning: \n",
      "A value is trying to be set on a copy of a slice from a DataFrame.\n",
      "Try using .loc[row_indexer,col_indexer] = value instead\n",
      "\n",
      "See the caveats in the documentation: https://pandas.pydata.org/pandas-docs/stable/user_guide/indexing.html#returning-a-view-versus-a-copy\n",
      "  df_sample['Cluster'] = model.fit_predict(X_sample)\n"
     ]
    }
   ],
   "source": [
    "df_sample=df.iloc[X_]\n",
    "\n",
    "from sklearn.cluster import MiniBatchKMeans\n",
    "\n",
    "model = MiniBatchKMeans(n_clusters=3, batch_size=10000, random_state=42)\n",
    "df_sample['Cluster'] = model.fit_predict(X_sample)\n"
   ]
  },
  {
   "cell_type": "markdown",
   "id": "b4aba745",
   "metadata": {},
   "source": [
    "saving the sample dataset with labels"
   ]
  },
  {
   "cell_type": "code",
   "execution_count": 30,
   "id": "eededc5b",
   "metadata": {},
   "outputs": [],
   "source": [
    "df_sample.to_csv('sampled_500k.csv', index=False)"
   ]
  },
  {
   "cell_type": "code",
   "execution_count": 31,
   "id": "94992613",
   "metadata": {},
   "outputs": [
    {
     "data": {
      "text/html": [
       "<div>\n",
       "<style scoped>\n",
       "    .dataframe tbody tr th:only-of-type {\n",
       "        vertical-align: middle;\n",
       "    }\n",
       "\n",
       "    .dataframe tbody tr th {\n",
       "        vertical-align: top;\n",
       "    }\n",
       "\n",
       "    .dataframe thead th {\n",
       "        text-align: right;\n",
       "    }\n",
       "</style>\n",
       "<table border=\"1\" class=\"dataframe\">\n",
       "  <thead>\n",
       "    <tr style=\"text-align: right;\">\n",
       "      <th></th>\n",
       "      <th>TIMESTAMP</th>\n",
       "      <th>RECORD</th>\n",
       "      <th>VOLTAGE</th>\n",
       "      <th>ST1</th>\n",
       "      <th>ST2</th>\n",
       "      <th>ST3</th>\n",
       "      <th>hour</th>\n",
       "      <th>Cluster</th>\n",
       "    </tr>\n",
       "  </thead>\n",
       "  <tbody>\n",
       "    <tr>\n",
       "      <th>0</th>\n",
       "      <td>2022-01-18 13:09:54.800</td>\n",
       "      <td>5304382</td>\n",
       "      <td>12.28</td>\n",
       "      <td>2130.772</td>\n",
       "      <td>863.4481</td>\n",
       "      <td>-3420.173</td>\n",
       "      <td>13.0</td>\n",
       "      <td>0</td>\n",
       "    </tr>\n",
       "    <tr>\n",
       "      <th>1</th>\n",
       "      <td>2022-01-19 05:19:42.830</td>\n",
       "      <td>11123185</td>\n",
       "      <td>12.16</td>\n",
       "      <td>2170.084</td>\n",
       "      <td>906.9361</td>\n",
       "      <td>-3372.200</td>\n",
       "      <td>5.0</td>\n",
       "      <td>0</td>\n",
       "    </tr>\n",
       "    <tr>\n",
       "      <th>2</th>\n",
       "      <td>2022-01-18 16:31:05.760</td>\n",
       "      <td>6511478</td>\n",
       "      <td>12.26</td>\n",
       "      <td>2137.063</td>\n",
       "      <td>873.3318</td>\n",
       "      <td>-3407.026</td>\n",
       "      <td>16.0</td>\n",
       "      <td>0</td>\n",
       "    </tr>\n",
       "    <tr>\n",
       "      <th>3</th>\n",
       "      <td>2022-01-12 08:27:26.480</td>\n",
       "      <td>6553226</td>\n",
       "      <td>12.39</td>\n",
       "      <td>2185.281</td>\n",
       "      <td>901.8490</td>\n",
       "      <td>-3612.984</td>\n",
       "      <td>8.0</td>\n",
       "      <td>2</td>\n",
       "    </tr>\n",
       "    <tr>\n",
       "      <th>4</th>\n",
       "      <td>2022-01-12 05:55:07.430</td>\n",
       "      <td>5639321</td>\n",
       "      <td>12.39</td>\n",
       "      <td>2193.305</td>\n",
       "      <td>913.3926</td>\n",
       "      <td>-3606.686</td>\n",
       "      <td>5.0</td>\n",
       "      <td>2</td>\n",
       "    </tr>\n",
       "  </tbody>\n",
       "</table>\n",
       "</div>"
      ],
      "text/plain": [
       "                 TIMESTAMP    RECORD  VOLTAGE       ST1       ST2       ST3  \\\n",
       "0  2022-01-18 13:09:54.800   5304382    12.28  2130.772  863.4481 -3420.173   \n",
       "1  2022-01-19 05:19:42.830  11123185    12.16  2170.084  906.9361 -3372.200   \n",
       "2  2022-01-18 16:31:05.760   6511478    12.26  2137.063  873.3318 -3407.026   \n",
       "3  2022-01-12 08:27:26.480   6553226    12.39  2185.281  901.8490 -3612.984   \n",
       "4  2022-01-12 05:55:07.430   5639321    12.39  2193.305  913.3926 -3606.686   \n",
       "\n",
       "   hour  Cluster  \n",
       "0  13.0        0  \n",
       "1   5.0        0  \n",
       "2  16.0        0  \n",
       "3   8.0        2  \n",
       "4   5.0        2  "
      ]
     },
     "execution_count": 31,
     "metadata": {},
     "output_type": "execute_result"
    }
   ],
   "source": [
    "sampled_df = pd.read_csv('sampled_500k.csv')\n",
    "sampled_df.head(5)"
   ]
  },
  {
   "cell_type": "code",
   "execution_count": 20,
   "id": "d1d34ef5",
   "metadata": {},
   "outputs": [
    {
     "name": "stdout",
     "output_type": "stream",
     "text": [
      "           VOLTAGE          ST1         ST2          ST3\n",
      "Cluster                                                 \n",
      "0        12.236427  2159.407395  896.342199 -3414.404351\n",
      "1        12.186012  2164.029456  899.409450 -3420.237370\n",
      "2        12.405873  2177.912634  893.238491 -3605.603433\n"
     ]
    }
   ],
   "source": [
    "print(df_sample.groupby('Cluster')[['VOLTAGE', 'ST1', 'ST2', 'ST3']].mean())\n"
   ]
  },
  {
   "cell_type": "markdown",
   "id": "39705f51",
   "metadata": {},
   "source": [
    "Sample prediction"
   ]
  },
  {
   "cell_type": "code",
   "execution_count": 28,
   "id": "ea30073d",
   "metadata": {},
   "outputs": [
    {
     "name": "stdout",
     "output_type": "stream",
     "text": [
      "[2]\n"
     ]
    }
   ],
   "source": [
    "print(model.predict([[14.9, 2100, 1000, -4999]]))"
   ]
  },
  {
   "cell_type": "code",
   "execution_count": 29,
   "id": "9e79b898",
   "metadata": {},
   "outputs": [
    {
     "data": {
      "text/plain": [
       "['bridge_health_model1.pkl']"
      ]
     },
     "execution_count": 29,
     "metadata": {},
     "output_type": "execute_result"
    }
   ],
   "source": [
    "model_filename = \"bridge_health_model1.pkl\"\n",
    "joblib.dump(model, model_filename)"
   ]
  },
  {
   "cell_type": "code",
   "execution_count": null,
   "id": "d0771b9b",
   "metadata": {},
   "outputs": [],
   "source": []
  }
 ],
 "metadata": {
  "kernelspec": {
   "display_name": "base",
   "language": "python",
   "name": "python3"
  },
  "language_info": {
   "codemirror_mode": {
    "name": "ipython",
    "version": 3
   },
   "file_extension": ".py",
   "mimetype": "text/x-python",
   "name": "python",
   "nbconvert_exporter": "python",
   "pygments_lexer": "ipython3",
   "version": "3.12.7"
  }
 },
 "nbformat": 4,
 "nbformat_minor": 5
}
